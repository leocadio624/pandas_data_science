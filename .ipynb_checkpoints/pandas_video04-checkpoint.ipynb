{
 "cells": [
  {
   "cell_type": "code",
   "execution_count": 1,
   "id": "1df200dd",
   "metadata": {},
   "outputs": [],
   "source": [
    "import pandas as pd"
   ]
  },
  {
   "cell_type": "code",
   "execution_count": 8,
   "id": "8c5c82dc",
   "metadata": {},
   "outputs": [],
   "source": [
    "#serie = pd.Series([4,9,2,6,10,200])\n",
    "#materias = pd.Series({'mate':50, 'fisica':70})\n",
    "colors = pd.Series([\"rojo\", \"azul\", \"amarillo\", \"verde\", \"morado\"])"
   ]
  },
  {
   "cell_type": "code",
   "execution_count": 11,
   "id": "60f9afdc",
   "metadata": {},
   "outputs": [
    {
     "data": {
      "text/plain": [
       "2"
      ]
     },
     "execution_count": 11,
     "metadata": {},
     "output_type": "execute_result"
    }
   ],
   "source": [
    "materias.size"
   ]
  }
 ],
 "metadata": {
  "kernelspec": {
   "display_name": "Python 3 (ipykernel)",
   "language": "python",
   "name": "python3"
  },
  "language_info": {
   "codemirror_mode": {
    "name": "ipython",
    "version": 3
   },
   "file_extension": ".py",
   "mimetype": "text/x-python",
   "name": "python",
   "nbconvert_exporter": "python",
   "pygments_lexer": "ipython3",
   "version": "3.9.12"
  }
 },
 "nbformat": 4,
 "nbformat_minor": 5
}
