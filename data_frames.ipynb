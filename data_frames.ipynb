{
 "cells": [
  {
   "cell_type": "code",
   "execution_count": 14,
   "id": "245f311f",
   "metadata": {},
   "outputs": [],
   "source": [
    "import pandas as pd\n",
    "import numpy as np"
   ]
  },
  {
   "cell_type": "code",
   "execution_count": 8,
   "id": "432d8219",
   "metadata": {},
   "outputs": [],
   "source": [
    "#Creacion de un data frame a partir de un diccionario de datos\n",
    "data = {\n",
    "        'NOMBRES':['maria', 'jose', 'david', 'ivan'],\n",
    "        'CARRERAS':['auditoria', 'informatica', 'derecho', 'idiomas'],\n",
    "        'CORREOS':['maria@gmail.com', 'jose@gmail.com', 'david@gmail.com', 'ivan@gmail.com']\n",
    "        }"
   ]
  },
  {
   "cell_type": "code",
   "execution_count": 5,
   "id": "7bc572f0",
   "metadata": {},
   "outputs": [],
   "source": [
    "estudiantes = pd.DataFrame(data)"
   ]
  },
  {
   "cell_type": "code",
   "execution_count": 7,
   "id": "34eee3aa",
   "metadata": {
    "scrolled": true
   },
   "outputs": [
    {
     "data": {
      "text/html": [
       "<div>\n",
       "<style scoped>\n",
       "    .dataframe tbody tr th:only-of-type {\n",
       "        vertical-align: middle;\n",
       "    }\n",
       "\n",
       "    .dataframe tbody tr th {\n",
       "        vertical-align: top;\n",
       "    }\n",
       "\n",
       "    .dataframe thead th {\n",
       "        text-align: right;\n",
       "    }\n",
       "</style>\n",
       "<table border=\"1\" class=\"dataframe\">\n",
       "  <thead>\n",
       "    <tr style=\"text-align: right;\">\n",
       "      <th></th>\n",
       "      <th>NOMBRES</th>\n",
       "      <th>CARRERAS</th>\n",
       "      <th>CORREOS</th>\n",
       "    </tr>\n",
       "  </thead>\n",
       "  <tbody>\n",
       "    <tr>\n",
       "      <th>0</th>\n",
       "      <td>maria</td>\n",
       "      <td>auditoria</td>\n",
       "      <td>maria@gmail.com</td>\n",
       "    </tr>\n",
       "    <tr>\n",
       "      <th>1</th>\n",
       "      <td>jose</td>\n",
       "      <td>informatica</td>\n",
       "      <td>jose@gmail.com</td>\n",
       "    </tr>\n",
       "    <tr>\n",
       "      <th>2</th>\n",
       "      <td>david</td>\n",
       "      <td>derecho</td>\n",
       "      <td>david@gmail.com</td>\n",
       "    </tr>\n",
       "    <tr>\n",
       "      <th>3</th>\n",
       "      <td>ivan</td>\n",
       "      <td>idiomas</td>\n",
       "      <td>ivan@gmail.com</td>\n",
       "    </tr>\n",
       "  </tbody>\n",
       "</table>\n",
       "</div>"
      ],
      "text/plain": [
       "  NOMBRES     CARRERAS          CORREOS\n",
       "0   maria    auditoria  maria@gmail.com\n",
       "1    jose  informatica   jose@gmail.com\n",
       "2   david      derecho  david@gmail.com\n",
       "3    ivan      idiomas   ivan@gmail.com"
      ]
     },
     "execution_count": 7,
     "metadata": {},
     "output_type": "execute_result"
    }
   ],
   "source": [
    "estudiantes"
   ]
  },
  {
   "cell_type": "code",
   "execution_count": 12,
   "id": "0ae4bd42",
   "metadata": {},
   "outputs": [],
   "source": [
    "#creacion de un dataframe a partir de una lista\n",
    "df_personas = pd.DataFrame([['maria',27],['david',34],['ana',20],['jose',15]], columns = ['nombre', 'edad'])"
   ]
  },
  {
   "cell_type": "code",
   "execution_count": 13,
   "id": "93b25701",
   "metadata": {},
   "outputs": [
    {
     "name": "stdout",
     "output_type": "stream",
     "text": [
      "  nombre  edad\n",
      "0  maria    27\n",
      "1  david    34\n",
      "2    ana    20\n",
      "3   jose    15\n"
     ]
    }
   ],
   "source": [
    "print(df_personas)"
   ]
  },
  {
   "cell_type": "code",
   "execution_count": 17,
   "id": "f6f7c0e5",
   "metadata": {},
   "outputs": [],
   "source": [
    "#Data frame a partir de un array\n",
    "#4 filas 3 columnas de numeros aleatorios\n",
    "df_arr = pd.DataFrame(np.random.randn(4,3), columns = ['a', 'b', 'c'])"
   ]
  },
  {
   "cell_type": "code",
   "execution_count": 18,
   "id": "bbcfdb8f",
   "metadata": {},
   "outputs": [
    {
     "data": {
      "text/html": [
       "<div>\n",
       "<style scoped>\n",
       "    .dataframe tbody tr th:only-of-type {\n",
       "        vertical-align: middle;\n",
       "    }\n",
       "\n",
       "    .dataframe tbody tr th {\n",
       "        vertical-align: top;\n",
       "    }\n",
       "\n",
       "    .dataframe thead th {\n",
       "        text-align: right;\n",
       "    }\n",
       "</style>\n",
       "<table border=\"1\" class=\"dataframe\">\n",
       "  <thead>\n",
       "    <tr style=\"text-align: right;\">\n",
       "      <th></th>\n",
       "      <th>a</th>\n",
       "      <th>b</th>\n",
       "      <th>c</th>\n",
       "    </tr>\n",
       "  </thead>\n",
       "  <tbody>\n",
       "    <tr>\n",
       "      <th>0</th>\n",
       "      <td>0.385228</td>\n",
       "      <td>0.111639</td>\n",
       "      <td>0.014507</td>\n",
       "    </tr>\n",
       "    <tr>\n",
       "      <th>1</th>\n",
       "      <td>0.739271</td>\n",
       "      <td>0.377924</td>\n",
       "      <td>0.165931</td>\n",
       "    </tr>\n",
       "    <tr>\n",
       "      <th>2</th>\n",
       "      <td>0.593627</td>\n",
       "      <td>0.734786</td>\n",
       "      <td>1.263358</td>\n",
       "    </tr>\n",
       "    <tr>\n",
       "      <th>3</th>\n",
       "      <td>2.140917</td>\n",
       "      <td>0.222485</td>\n",
       "      <td>2.396297</td>\n",
       "    </tr>\n",
       "  </tbody>\n",
       "</table>\n",
       "</div>"
      ],
      "text/plain": [
       "          a         b         c\n",
       "0  0.385228  0.111639  0.014507\n",
       "1  0.739271  0.377924  0.165931\n",
       "2  0.593627  0.734786  1.263358\n",
       "3  2.140917  0.222485  2.396297"
      ]
     },
     "execution_count": 18,
     "metadata": {},
     "output_type": "execute_result"
    }
   ],
   "source": [
    "df_arr"
   ]
  }
 ],
 "metadata": {
  "kernelspec": {
   "display_name": "Python 3 (ipykernel)",
   "language": "python",
   "name": "python3"
  },
  "language_info": {
   "codemirror_mode": {
    "name": "ipython",
    "version": 3
   },
   "file_extension": ".py",
   "mimetype": "text/x-python",
   "name": "python",
   "nbconvert_exporter": "python",
   "pygments_lexer": "ipython3",
   "version": "3.9.12"
  }
 },
 "nbformat": 4,
 "nbformat_minor": 5
}
