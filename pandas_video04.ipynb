{
 "cells": [
  {
   "cell_type": "code",
   "execution_count": 1,
   "id": "d5a986fa",
   "metadata": {},
   "outputs": [],
   "source": [
    "import pandas as pd"
   ]
  },
  {
   "cell_type": "code",
   "execution_count": 21,
   "id": "d2a4f7a5",
   "metadata": {},
   "outputs": [],
   "source": [
    "serie = pd.Series([4,9,2,6,10,200])\n",
    "materias = pd.Series({'mate':50, 'fisica':70, \"quimica\":50})\n",
    "colors = pd.Series([\"rojo\", \"azul\", \"amarillo\", \"verde\", \"morado\"])"
   ]
  },
  {
   "cell_type": "code",
   "execution_count": 14,
   "id": "f67bde2b",
   "metadata": {},
   "outputs": [
    {
     "data": {
      "text/plain": [
       "2    amarillo\n",
       "3       verde\n",
       "dtype: object"
      ]
     },
     "execution_count": 14,
     "metadata": {},
     "output_type": "execute_result"
    }
   ],
   "source": [
    "colors[2:4]"
   ]
  },
  {
   "cell_type": "code",
   "execution_count": 27,
   "id": "d4b66365",
   "metadata": {},
   "outputs": [
    {
     "data": {
      "text/plain": [
       "70"
      ]
     },
     "execution_count": 27,
     "metadata": {},
     "output_type": "execute_result"
    }
   ],
   "source": [
    "materias['fisica']"
   ]
  },
  {
   "cell_type": "code",
   "execution_count": 29,
   "id": "cab835ae",
   "metadata": {},
   "outputs": [
    {
     "data": {
      "text/plain": [
       "fisica     70\n",
       "quimica    50\n",
       "dtype: int64"
      ]
     },
     "execution_count": 29,
     "metadata": {},
     "output_type": "execute_result"
    }
   ],
   "source": [
    "materias[['fisica', 'quimica']]"
   ]
  },
  {
   "cell_type": "code",
   "execution_count": 31,
   "id": "17b9c0cf",
   "metadata": {},
   "outputs": [],
   "source": [
    "#Funciones de un dataFrame\n",
    "numeros = pd.Series([1,2,3,4,5,6,7,8,9])\n"
   ]
  },
  {
   "cell_type": "code",
   "execution_count": 35,
   "id": "917d3c95",
   "metadata": {},
   "outputs": [
    {
     "data": {
      "text/plain": [
       "count    9.000000\n",
       "mean     5.000000\n",
       "std      2.738613\n",
       "min      1.000000\n",
       "25%      3.000000\n",
       "50%      5.000000\n",
       "75%      7.000000\n",
       "max      9.000000\n",
       "dtype: float64"
      ]
     },
     "execution_count": 35,
     "metadata": {},
     "output_type": "execute_result"
    }
   ],
   "source": [
    "#numeros.count()\n",
    "numeros.describe()\n"
   ]
  },
  {
   "cell_type": "code",
   "execution_count": 37,
   "id": "391d482c",
   "metadata": {},
   "outputs": [
    {
     "data": {
      "text/plain": [
       "1"
      ]
     },
     "execution_count": 37,
     "metadata": {},
     "output_type": "execute_result"
    }
   ],
   "source": [
    "numeros.min()"
   ]
  },
  {
   "cell_type": "code",
   "execution_count": 30,
   "id": "e5059532",
   "metadata": {},
   "outputs": [
    {
     "name": "stdout",
     "output_type": "stream",
     "text": [
      "   calories  duration\n",
      "0       420        50\n",
      "1       380        40\n",
      "2       390        45\n"
     ]
    }
   ],
   "source": [
    "#crear DataFrame de dos series\n",
    "\n",
    "data = {\n",
    "  \"calories\": [420, 380, 390],\n",
    "  \"duration\": [50, 40, 45]\n",
    "}\n",
    "\n",
    "myvar = pd.DataFrame(data)\n",
    "\n",
    "print(myvar)"
   ]
  }
 ],
 "metadata": {
  "kernelspec": {
   "display_name": "Python 3 (ipykernel)",
   "language": "python",
   "name": "python3"
  },
  "language_info": {
   "codemirror_mode": {
    "name": "ipython",
    "version": 3
   },
   "file_extension": ".py",
   "mimetype": "text/x-python",
   "name": "python",
   "nbconvert_exporter": "python",
   "pygments_lexer": "ipython3",
   "version": "3.9.12"
  }
 },
 "nbformat": 4,
 "nbformat_minor": 5
}
